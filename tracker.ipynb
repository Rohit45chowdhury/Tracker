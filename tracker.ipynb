{
 "cells": [
  {
   "cell_type": "code",
   "execution_count": 13,
   "id": "3e52b541",
   "metadata": {},
   "outputs": [
    {
     "name": "stdout",
     "output_type": "stream",
     "text": [
      "phone number details\n",
      "Region: Ahmedabad Local, Gujarat\n",
      "carrier: Reliance Jio\n",
      "timezone: ('Asia/Calcutta',)\n",
      "Valid number: True\n",
      "Possible number: True\n"
     ]
    }
   ],
   "source": [
    "import phonenumbers\n",
    "from phonenumbers import geocoder,carrier,timezone\n",
    "import requests\n",
    "\n",
    "number=phonenumbers.parse(\"+91 7979878454\")\n",
    "\n",
    "print(\"phone number details\")\n",
    "\n",
    "print(\"Region:\",geocoder.description_for_number(number,\"en\"))\n",
    "\n",
    "print(\"carrier:\",carrier.name_for_number(number,\"en\"))\n",
    "\n",
    "print(\"timezone:\",timezone.time_zones_for_number(number))\n",
    "\n",
    "print(\"Valid number:\", phonenumbers.is_valid_number(number))\n",
    "\n",
    "print(\"Possible number:\", phonenumbers.is_possible_number(number))\n",
    "\n"
   ]
  },
  {
   "cell_type": "code",
   "execution_count": 14,
   "id": "846a3391",
   "metadata": {},
   "outputs": [
    {
     "name": "stdout",
     "output_type": "stream",
     "text": [
      "Country: India (Republic of)\n",
      "Location: Bihar\n",
      "Current Carrier: Reliance Jio Infocomm Ltd (RJIL)\n",
      "Line Type: mobile\n"
     ]
    }
   ],
   "source": [
    "# After update(port)\n",
    "\n",
    "import requests\n",
    "\n",
    "api_key = \"num_live_4e47Mv8N1Bn3J3smRR0Q3taZIjkMEIAQgaN15D02\"\n",
    "\n",
    "url = f\"https://api.numlookupapi.com/v1/validate/{number}?apikey={api_key}\"\n",
    "\n",
    "try:\n",
    "    response=requests.get(url,timeout=10)\n",
    "    data=response.json()\n",
    "    print(\"Country:\", data.get(\"country_name\"))\n",
    "    print(\"Location:\", data.get(\"location\"))   \n",
    "    print(\"Current Carrier:\", data.get(\"carrier\"))\n",
    "    print(\"Line Type:\", data.get(\"line_type\"))\n",
    "except Exception as e:\n",
    "    print(\"error\",e) \n"
   ]
  },
  {
   "cell_type": "code",
   "execution_count": 15,
   "id": "e37a379c",
   "metadata": {},
   "outputs": [
    {
     "name": "stdout",
     "output_type": "stream",
     "text": [
      "📍 Current Location\n",
      "IP Address: 27.60.181.29\n",
      "City: Siliguri\n",
      "State: West Bengal\n",
      "Country: IN\n",
      "Latitude: 26.71\n",
      "Longitude: 88.4285\n"
     ]
    }
   ],
   "source": [
    "import geocoder\n",
    "\n",
    "\n",
    "location = geocoder.ip('me')\n",
    "\n",
    "print(\"📍 Current Location\")\n",
    "print(\"IP Address:\", location.ip)\n",
    "print(\"City:\", location.city)\n",
    "print(\"State:\", location.state)\n",
    "print(\"Country:\", location.country)\n",
    "print(\"Latitude:\", location.latlng[0])\n",
    "print(\"Longitude:\", location.latlng[1])"
   ]
  },
  {
   "cell_type": "code",
   "execution_count": 16,
   "id": "d7851db6",
   "metadata": {},
   "outputs": [
    {
     "name": "stdout",
     "output_type": "stream",
     "text": [
      "IP Address: 27.60.181.29\n",
      "Country: India\n",
      "Region/State: West Bengal\n",
      "City: Kolkata\n",
      "District (approx): None\n",
      "ZIP/Pincode: 700028\n",
      "Latitude: 22.5643\n",
      "Longitude: 88.3693\n",
      "ISP: Bharti Airtel\n"
     ]
    }
   ],
   "source": [
    "import requests\n",
    "\n",
    "ip = \"27.60.181.29\"   # yaha apna IP daalo\n",
    "url = f\"http://ip-api.com/json/{ip}\"\n",
    "\n",
    "response = requests.get(url).json()\n",
    "\n",
    "print(\"IP Address:\", ip)\n",
    "print(\"Country:\", response.get(\"country\"))\n",
    "print(\"Region/State:\", response.get(\"regionName\"))\n",
    "print(\"City:\", response.get(\"city\"))\n",
    "print(\"District (approx):\", response.get(\"district\"))  # sabhi API me nahi milta\n",
    "print(\"ZIP/Pincode:\", response.get(\"zip\"))\n",
    "print(\"Latitude:\", response.get(\"lat\"))\n",
    "print(\"Longitude:\", response.get(\"lon\"))\n",
    "print(\"ISP:\", response.get(\"isp\"))\n"
   ]
  },
  {
   "cell_type": "code",
   "execution_count": null,
   "id": "0546dc28",
   "metadata": {},
   "outputs": [
    {
     "name": "stdout",
     "output_type": "stream",
     "text": [
      "Full Address: NRS pond, AJC Bose Road, Chandni Chowk East, Kolkata, West Bengal, 700009, India\n",
      "Country: India\n",
      "State: West Bengal\n",
      "District: Kolkata\n",
      "City: Kolkata\n",
      "Pincode: 700009\n"
     ]
    }
   ],
   "source": [
    "from geopy.geocoders import Nominatim\n",
    "\n",
    "\n",
    "geolocator = Nominatim(user_agent=\"rohit_location_finder\")\n",
    "\n",
    "location = geolocator.reverse(\"22.5643,  88.3693\")  # latitude, longitude\n",
    "\n",
    "print(\"Full Address:\", location.address)\n",
    "\n",
    "\n",
    "address = location.raw['address']\n",
    "print(\"Country:\", address.get('country', ''))\n",
    "print(\"State:\", address.get('state', ''))\n",
    "print(\"District:\", address.get('state_district', ''))\n",
    "print(\"City:\", address.get('city', address.get('town', address.get('village', ''))))\n",
    "print(\"Pincode:\", address.get('postcode', ''))"
   ]
  },
  {
   "cell_type": "code",
   "execution_count": null,
   "id": "e2c3cdd5",
   "metadata": {},
   "outputs": [],
   "source": []
  }
 ],
 "metadata": {
  "kernelspec": {
   "display_name": ".venv (3.13.1)",
   "language": "python",
   "name": "python3"
  },
  "language_info": {
   "codemirror_mode": {
    "name": "ipython",
    "version": 3
   },
   "file_extension": ".py",
   "mimetype": "text/x-python",
   "name": "python",
   "nbconvert_exporter": "python",
   "pygments_lexer": "ipython3",
   "version": "3.13.1"
  }
 },
 "nbformat": 4,
 "nbformat_minor": 5
}
